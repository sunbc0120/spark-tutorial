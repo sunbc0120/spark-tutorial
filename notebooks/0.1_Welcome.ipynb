{
 "cells": [
  {
   "cell_type": "markdown",
   "metadata": {},
   "source": [
    "Welcome\n",
    "-------\n",
    "\n",
    "\n",
    "Welcome to the Apache Spark tutorial notebooks.\n",
    "\n",
    "This very simple notebook is designed to test that your environment is setup correctly.\n",
    "\n",
    "Please `Run All` cells. \n",
    "\n",
    "The notebook should run without errors and you should see a histogram plot at the end.\n",
    "\n",
    "(You can also check the expected output [here](https://piotrszul.github.io/spark-tutorial/notebooks/0.1_Welcome.html))\n",
    "\n",
    "\n",
    "#### Let's go\n"
   ]
  },
  {
   "cell_type": "markdown",
   "metadata": {},
   "source": [
    "Let's check if spark is available and what version are we using (should be 2.1+):"
   ]
  },
  {
   "cell_type": "code",
   "execution_count": 9,
   "metadata": {
    "collapsed": false
   },
   "outputs": [
    {
     "data": {
      "text/plain": [
       "u'2.2.0'"
      ]
     },
     "execution_count": 9,
     "metadata": {},
     "output_type": "execute_result"
    }
   ],
   "source": [
    "# `spark` is the main entry point for all spark related operations.\n",
    "# It is an instance of SparkSession and pyspark automatically creates one for you.\n",
    "# Another one is `sc` an instance of SparkContext, which is used for low lever RRD API.\n",
    "\n",
    "spark.version"
   ]
  },
  {
   "cell_type": "markdown",
   "metadata": {},
   "source": [
    "Let's try to run a simple `Spark` program to compute the number of occurences of words in Machiavelli's \"Prince\", and display ten most frequent ones:"
   ]
  },
  {
   "cell_type": "code",
   "execution_count": 20,
   "metadata": {
    "collapsed": false
   },
   "outputs": [
    {
     "name": "stdout",
     "output_type": "stream",
     "text": [
      "[(3108, u'the'), (2107, u'to'), (1935, u'and'), (1802, u'of'), (993, u'in'), (920, u'he'), (779, u'a'), (745, u'that'), (640, u'his'), (585, u'it')]\n"
     ]
    }
   ],
   "source": [
    "import operator\n",
    "import re\n",
    "\n",
    "\n",
    "# Here we use Spark RDD API to split a text file into invividual words, \n",
    "# to count the number of occurences of each word and to take top 10 most frequent words.\n",
    "\n",
    "wordCountRDD = sc.textFile('gs://graphenoxidexyz/demo/data/prince_by_machiavelli.txt') \\\n",
    "        .flatMap(lambda line: re.split(r'[^a-z\\-\\']+', line.lower())) \\\n",
    "        .filter(lambda word: len(word) > 0 ) \\\n",
    "        .map(lambda word: (word, 1)) \\\n",
    "        .reduceByKey(operator.add)\n",
    "\n",
    "# `take()` function takes the first n elements of an RDD \n",
    "# and returns them in a python `list` object, \n",
    "        \n",
    "top10Words = wordCountRDD \\\n",
    "    .map(lambda (k,v):(v,k)) \\\n",
    "    .sortByKey(False) \\\n",
    "    .take(10)\n",
    "    \n",
    "    \n",
    "# which can then be printed out\n",
    "print(top10Words)"
   ]
  },
  {
   "cell_type": "markdown",
   "metadata": {},
   "source": [
    "Spark SQL is a higer level API for structured data. The data are represented in `data frames` - table like object with columns and rows concenptully similar to `panadas` or `R` data fames.\n",
    "\n",
    "Let's use Spark SQL to display a table with the 10 least frequent words:"
   ]
  },
  {
   "cell_type": "code",
   "execution_count": 29,
   "metadata": {
    "collapsed": false,
    "scrolled": true
   },
   "outputs": [
    {
     "data": {
      "text/html": [
       "<div>\n",
       "<table border=\"1\" class=\"dataframe\">\n",
       "  <thead>\n",
       "    <tr style=\"text-align: right;\">\n",
       "      <th></th>\n",
       "      <th>word</th>\n",
       "      <th>count</th>\n",
       "    </tr>\n",
       "  </thead>\n",
       "  <tbody>\n",
       "    <tr>\n",
       "      <th>0</th>\n",
       "      <td>papacy</td>\n",
       "      <td>1</td>\n",
       "    </tr>\n",
       "    <tr>\n",
       "      <th>1</th>\n",
       "      <td>demanded</td>\n",
       "      <td>1</td>\n",
       "    </tr>\n",
       "    <tr>\n",
       "      <th>2</th>\n",
       "      <td>protest</td>\n",
       "      <td>1</td>\n",
       "    </tr>\n",
       "    <tr>\n",
       "      <th>3</th>\n",
       "      <td>thirst</td>\n",
       "      <td>1</td>\n",
       "    </tr>\n",
       "    <tr>\n",
       "      <th>4</th>\n",
       "      <td>stinks</td>\n",
       "      <td>1</td>\n",
       "    </tr>\n",
       "    <tr>\n",
       "      <th>5</th>\n",
       "      <td>founder</td>\n",
       "      <td>1</td>\n",
       "    </tr>\n",
       "    <tr>\n",
       "      <th>6</th>\n",
       "      <td>untie</td>\n",
       "      <td>1</td>\n",
       "    </tr>\n",
       "    <tr>\n",
       "      <th>7</th>\n",
       "      <td>paris</td>\n",
       "      <td>1</td>\n",
       "    </tr>\n",
       "    <tr>\n",
       "      <th>8</th>\n",
       "      <td>pre-eminence</td>\n",
       "      <td>1</td>\n",
       "    </tr>\n",
       "    <tr>\n",
       "      <th>9</th>\n",
       "      <td>boundless</td>\n",
       "      <td>1</td>\n",
       "    </tr>\n",
       "  </tbody>\n",
       "</table>\n",
       "</div>"
      ],
      "text/plain": [
       "           word  count\n",
       "0        papacy      1\n",
       "1      demanded      1\n",
       "2       protest      1\n",
       "3        thirst      1\n",
       "4        stinks      1\n",
       "5       founder      1\n",
       "6         untie      1\n",
       "7         paris      1\n",
       "8  pre-eminence      1\n",
       "9     boundless      1"
      ]
     },
     "execution_count": 29,
     "metadata": {},
     "output_type": "execute_result"
    }
   ],
   "source": [
    "# A data frame can be created from an RDD;\n",
    "# schema defines the names (and types) of columns.\n",
    "\n",
    "wordCountDF = spark.createDataFrame(wordCountRDD, schema = ['word', 'count'])\n",
    "\n",
    "# it just means: sort by column `count` and take the first ten elements\n",
    "\n",
    "bottom10Words = wordCountDF.sort('count').limit(10)\n",
    "\n",
    "# `display` function can be used to display data frames (and also all other sorts of objects)\n",
    "bottom10Words.toPandas()"
   ]
  },
  {
   "cell_type": "markdown",
   "metadata": {},
   "source": [
    "Let's save the results to a csv file.\n",
    "\n",
    "For the tutorial all the output files are saved in the `output` directory:"
   ]
  },
  {
   "cell_type": "code",
   "execution_count": 30,
   "metadata": {
    "collapsed": true
   },
   "outputs": [],
   "source": [
    "# data frames can be saved in many common 'table' formats, for example `csv`.\n",
    "# the `mode='overwrite'` tells Spark to overwite the output file is it exists\n",
    "\n",
    "wordCountDF.write.csv('gs://graphenoxidexyz/demo/data/output/prince-word-count.csv', mode='overwrite', header=True)"
   ]
  },
  {
   "cell_type": "markdown",
   "metadata": {},
   "source": [
    "Let's preview the output:"
   ]
  },
  {
   "cell_type": "code",
   "execution_count": 31,
   "metadata": {
    "collapsed": false
   },
   "outputs": [
    {
     "name": "stdout",
     "output_type": "stream",
     "text": [
      "         0  2017-08-29T05:49:32Z  gs://graphenoxidexyz/demo/data/output/prince-word-count.csv/\n",
      "         0  2017-08-29T05:49:48Z  gs://graphenoxidexyz/demo/data/output/prince-word-count.csv/_SUCCESS\n",
      "     28071  2017-08-29T05:49:37Z  gs://graphenoxidexyz/demo/data/output/prince-word-count.csv/part-00000-cd65e838-2e9f-4c52-bfec-3db5a028c97a-c000.csv\n",
      "     28953  2017-08-29T05:49:45Z  gs://graphenoxidexyz/demo/data/output/prince-word-count.csv/part-00001-cd65e838-2e9f-4c52-bfec-3db5a028c97a-c000.csv\n",
      "TOTAL: 4 objects, 57024 bytes (55.69 KiB)\n",
      "\n",
      "Content:\n",
      "==> part-00000-45a862ee-21d8-45cc-a421-24a7ab6355fc-c000.csv <==\n",
      "word,count\n",
      "vita,1\n",
      "pardon,2\n",
      "dissolution,2\n",
      "desirable,2\n",
      "papacy,1\n",
      "four,14\n",
      "demanded,1\n",
      "protest,1\n",
      "abide,1\n",
      "\n",
      "==> part-00000-cd65e838-2e9f-4c52-bfec-3db5a028c97a-c000.csv <==\n",
      "word,count\n",
      "pardon,2\n",
      "dissolution,2\n",
      "desirable,2\n",
      "papacy,1\n",
      "four,14\n",
      "demanded,1\n",
      "protest,1\n",
      "thirst,1\n",
      "consists,2\n"
     ]
    },
    {
     "name": "stderr",
     "output_type": "stream",
     "text": [
      "Copying gs://graphenoxidexyz/demo/data/output/prince-word-count.csv/part-00000-cd65e838-2e9f-4c52-bfec-3db5a028c97a-c000.csv...\n",
      "/ [0 files][    0.0 B/ 27.4 KiB]                                                \r",
      "/ [1 files][ 27.4 KiB/ 27.4 KiB]                                                \r\n",
      "Operation completed over 1 objects/27.4 KiB.                                     \n"
     ]
    }
   ],
   "source": [
    "%%sh \n",
    "\n",
    "# Same as with the input data sets, we can use the `%%sh` cells to preview the \n",
    "# files produced to the `output` directory.\n",
    "\n",
    "# Please note that output we have produced above is actually a directory:\n",
    "\n",
    "gsutil ls -l gs://graphenoxidexyz/demo/data/output/prince-word-count.csv\n",
    "\n",
    "# The `part-*` files inside contain the actual data.\n",
    "\n",
    "echo\n",
    "echo \"Content:\"\n",
    "\n",
    "gsutil cp gs://graphenoxidexyz/demo/data/output/prince-word-count.csv/part-00000-*.csv .\n",
    "head -n 10 part-00000-*.csv"
   ]
  },
  {
   "cell_type": "markdown",
   "metadata": {},
   "source": [
    "Finally we can use python `matplotlib` to visualise the result.\n",
    "\n",
    "Let's plot the histogram of the distribution of word counts:"
   ]
  },
  {
   "cell_type": "code",
   "execution_count": 32,
   "metadata": {
    "collapsed": false
   },
   "outputs": [
    {
     "data": {
      "image/png": "[encoded data removed]",
      "text/plain": [
       "<matplotlib.figure.Figure at 0x7f2fa14d8e50>"
      ]
     },
     "metadata": {},
     "output_type": "display_data"
    }
   ],
   "source": [
    "import matplotlib.pyplot as plt\n",
    "\n",
    "# we can convert (small) Spark data frames to `pandas`\n",
    "wordCountPDF = wordCountDF.toPandas()\n",
    "\n",
    "# and then use pyplot (plt) to display the results\n",
    "# Please note that we call `plt.close()` first - this is needed for Databricks \n",
    "# to start a new plot.\n",
    "\n",
    "# plt.close()\n",
    "plt.hist(wordCountPDF['count'], bins = 40, log = True)\n",
    "plt.show()\n",
    "display()"
   ]
  },
  {
   "cell_type": "markdown",
   "metadata": {},
   "source": [
    "You can now play around modifyging some pieces of the code.\n",
    "\n",
    "When you are done and you are running off the local machine remeber **to close the notebook with `File/Close and Halt`**"
   ]
  }
 ],
 "metadata": {
  "kernelspec": {
   "display_name": "Python 2",
   "language": "python",
   "name": "python2"
  },
  "language_info": {
   "codemirror_mode": {
    "name": "ipython",
    "version": 2
   },
   "file_extension": ".py",
   "mimetype": "text/x-python",
   "name": "python",
   "nbconvert_exporter": "python",
   "pygments_lexer": "ipython2",
   "version": "2.7.12"
  }
 },
 "nbformat": 4,
 "nbformat_minor": 1
}
