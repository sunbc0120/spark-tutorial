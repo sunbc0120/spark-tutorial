{
 "cells": [
  {
   "cell_type": "markdown",
   "metadata": {},
   "source": [
    "# 1.2 RDD Data Processing\n",
    "\n",
    "This notebook demonstrates some of the more advanced uses of Spark RDD API for data processing.\n",
    "\n",
    "We will analyze the `Air Temperature` data set from BOM,  which contains historial maximum daily temperatures from multiple weather stations in New South Wales going back to the 19th century.\n",
    "\n",
    "Let's have look at the data first (`data/nsw_temp.csv` file):"
   ]
  },
  {
   "cell_type": "code",
   "execution_count": 1,
   "metadata": {
    "collapsed": false
   },
   "outputs": [
    {
     "name": "stdout",
     "output_type": "stream",
     "text": [
      "Product code,Bureau of Meteorology station number,Year,Month,Day,Maximum temperature (Degree C),Days of accumulation of maximum temperature,Quality\r\n",
      "IDCJAC0010,061087,1965,01,01,25.6,,Y\r\n",
      "IDCJAC0010,061087,1965,01,02,32.2,1,Y\r\n",
      "IDCJAC0010,061087,1965,01,03,23.1,1,Y\r\n",
      "IDCJAC0010,061087,1965,01,04,25.6,1,Y\r\n"
     ]
    },
    {
     "name": "stderr",
     "output_type": "stream",
     "text": [
      "Copying gs://graphenoxidexyz/demo/data/nsw_temp.csv...\n",
      "/ [0 files][    0.0 B/ 12.9 MiB]                                                \r",
      "/ [1 files][ 12.9 MiB/ 12.9 MiB]                                                \r\n",
      "Operation completed over 1 objects/12.9 MiB.                                     \n"
     ]
    }
   ],
   "source": [
    "%%sh \n",
    "gsutil cp gs://graphenoxidexyz/demo/data/nsw_temp.csv .\n",
    "head -n 5 nsw_temp.csv"
   ]
  },
  {
   "cell_type": "markdown",
   "metadata": {},
   "source": [
    "The data appears to be the `csv` format with the header with the column names in the first line.\n",
    "\n",
    "Let's load the data as an RDD:"
   ]
  },
  {
   "cell_type": "code",
   "execution_count": 2,
   "metadata": {
    "collapsed": false
   },
   "outputs": [
    {
     "name": "stdout",
     "output_type": "stream",
     "text": [
      "Lines in the RDD: 352737 \n"
     ]
    },
    {
     "data": {
      "text/plain": [
       "[u'Product code,Bureau of Meteorology station number,Year,Month,Day,Maximum temperature (Degree C),Days of accumulation of maximum temperature,Quality',\n",
       " u'IDCJAC0010,061087,1965,01,01,25.6,,Y',\n",
       " u'IDCJAC0010,061087,1965,01,02,32.2,1,Y',\n",
       " u'IDCJAC0010,061087,1965,01,03,23.1,1,Y',\n",
       " u'IDCJAC0010,061087,1965,01,04,25.6,1,Y']"
      ]
     },
     "execution_count": 2,
     "metadata": {},
     "output_type": "execute_result"
    }
   ],
   "source": [
    "# use `textFile` to create an RDD of lines in the text files\n",
    "\n",
    "dataRDD = sc.textFile('gs://graphenoxidexyz/demo/data/nsw_temp.csv')\n",
    "\n",
    "# let's see how many lines are there in the RDD\n",
    "\n",
    "print(\"Lines in the RDD: %s \" % dataRDD.count())\n",
    "\n",
    "# let's preview the RDD\n",
    "dataRDD.take(5)"
   ]
  },
  {
   "cell_type": "markdown",
   "metadata": {},
   "source": [
    "### Important RDD internals\n",
    "\n",
    "In order to be able to process RDDs in the distributed manner Spark splits the RDD's data into multiple chunks called paritition.\n",
    "\n",
    "For a text file the partition may represent a range of lines in the file.  \n",
    "\n",
    "The number of partitions in the RDD will determine the maximum level of parallelism possible for processing of this RDD, that is the RDD with say two partitions can only be processed by two executors in parallel **even if many more are available**. \n",
    "\n",
    "Spark usually make a good guess about how many partition to use but in come cases, when the input data set is small and processing is compute intensive the number may need to be adjusted (to match the number of executors)."
   ]
  },
  {
   "cell_type": "code",
   "execution_count": 4,
   "metadata": {
    "collapsed": false
   },
   "outputs": [
    {
     "name": "stdout",
     "output_type": "stream",
     "text": [
      "4\n",
      "16\n"
     ]
    }
   ],
   "source": [
    "# check the number of paritions in the RDD\n",
    "print(dataRDD.getNumPartitions())\n",
    "\n",
    "# force Spark to split the file to at least 4 partitions\n",
    "dataRDD = sc.textFile('gs://graphenoxidexyz/demo/data/nsw_temp.csv', 16)\n",
    "print(dataRDD.getNumPartitions())"
   ]
  },
  {
   "cell_type": "markdown",
   "metadata": {},
   "source": [
    "RDDs may contain any *serializable* (with `pickle`) objects. \n",
    "\n",
    "For our data set let's represent each measurement as a `namedtuple` `BomRecord`.\n",
    "\n",
    "Let's convert our data set to the `RDD` of `BomRecord`s:"
   ]
  },
  {
   "cell_type": "code",
   "execution_count": 5,
   "metadata": {
    "collapsed": false
   },
   "outputs": [
    {
     "data": {
      "text/plain": [
       "[BomRecord(product_code=u'IDCJAC0010', station_number=u'061087', year=u'1965', month=u'01', day=u'01', max_temp=u'25.6', days_of_acc=u'', quality=u'Y'),\n",
       " BomRecord(product_code=u'IDCJAC0010', station_number=u'061087', year=u'1965', month=u'01', day=u'02', max_temp=u'32.2', days_of_acc=u'1', quality=u'Y'),\n",
       " BomRecord(product_code=u'IDCJAC0010', station_number=u'061087', year=u'1965', month=u'01', day=u'03', max_temp=u'23.1', days_of_acc=u'1', quality=u'Y')]"
      ]
     },
     "execution_count": 5,
     "metadata": {},
     "output_type": "execute_result"
    }
   ],
   "source": [
    "from collections import namedtuple\n",
    "\n",
    "# define the namedtuple BomRecord\n",
    "BomRecord = namedtuple('BomRecord', \n",
    "        ['product_code', 'station_number', 'year', 'month', 'day', 'max_temp', 'days_of_acc', 'quality'])\n",
    "\n",
    "# filter out the header line and convert each line to the BomRecord\n",
    "bomRDD = dataRDD \\\n",
    "    .filter(lambda line: line.startswith('IDCJAC')) \\\n",
    "    .map(lambda line: BomRecord(*line.split(',')))\n",
    "\n",
    "bomRDD.take(3)"
   ]
  },
  {
   "cell_type": "markdown",
   "metadata": {},
   "source": [
    "It looks good, but we can improve it by converting each column to its actual `python` type:"
   ]
  },
  {
   "cell_type": "code",
   "execution_count": 6,
   "metadata": {
    "collapsed": false
   },
   "outputs": [
    {
     "data": {
      "text/plain": [
       "[BomRecord(product_code='IDCJAC0010', station_number='061087', year=1965, month=1, day=1, max_temp=25.6, days_of_acc=None, quality=True),\n",
       " BomRecord(product_code='IDCJAC0010', station_number='061087', year=1965, month=1, day=2, max_temp=32.2, days_of_acc='1', quality=True),\n",
       " BomRecord(product_code='IDCJAC0010', station_number='061087', year=1965, month=1, day=3, max_temp=23.1, days_of_acc='1', quality=True)]"
      ]
     },
     "execution_count": 6,
     "metadata": {},
     "output_type": "execute_result"
    }
   ],
   "source": [
    "# returns a function that convert a list of string values to \n",
    "# the values of types defined in `types`\n",
    "def apply_types(*types):\n",
    "    return lambda strlist: ( t(v) if v else None for t,v in zip(types, strlist))\n",
    "\n",
    "bomRDD = dataRDD \\\n",
    "    .filter(lambda line: line.startswith('IDCJAC')) \\\n",
    "    .map(lambda line: BomRecord(*apply_types(str, str, int, int, int, float, str, bool)(line.split(','))))\n",
    "\n",
    "bomRDD.take(3)"
   ]
  },
  {
   "cell_type": "markdown",
   "metadata": {},
   "source": [
    "Another important consideration in working with RDDs is *caching*, that is keeping the entire (or part) of the RDD in memory, to improve the performance.\n",
    "\n",
    "There are two reasons for this:\n",
    "\n",
    "* accessing data in memory is much faster than acessing data on a (spinning) disk ( ~ 10^5 times faster)\n",
    "* caching can be used to capture the results of compute intensive transformations \n",
    "\n",
    "Let's see how that works in practice:"
   ]
  },
  {
   "cell_type": "code",
   "execution_count": 7,
   "metadata": {
    "collapsed": false
   },
   "outputs": [
    {
     "name": "stdout",
     "output_type": "stream",
     "text": [
      "Serialized 1x Replicated\n",
      "Memory Serialized 1x Replicated\n"
     ]
    }
   ],
   "source": [
    "# print the current storage level\n",
    "print(bomRDD.getStorageLevel())\n",
    "\n",
    "# mark the RDD for caching\n",
    "bomRDD.cache()\n",
    "\n",
    "# print the cached storage level\n",
    "print(bomRDD.getStorageLevel())"
   ]
  },
  {
   "cell_type": "code",
   "execution_count": 11,
   "metadata": {
    "collapsed": false
   },
   "outputs": [
    {
     "data": {
      "text/plain": [
       "352696"
      ]
     },
     "execution_count": 11,
     "metadata": {},
     "output_type": "execute_result"
    }
   ],
   "source": [
    "# Perform an action in the RDD\n",
    "\n",
    "bomRDD.count()\n",
    "\n",
    "# Peform the action again and notice if it runs faster"
   ]
  },
  {
   "cell_type": "markdown",
   "metadata": {},
   "source": [
    "\n",
    "Once the RDD is cached in memory (Memory Serialized 1x Replicated) the second `count` operation works much faster.\n",
    "\n",
    "### Analysing Data\n",
    "\n",
    "Now that we have created a convenient representation of the data and cached them for performance we are ready to ask a few analytical questions. "
   ]
  },
  {
   "cell_type": "markdown",
   "metadata": {},
   "source": [
    "For example: how many stations and years of observations are there in the dataset as well as what are some of the statistics of the maximum temperature measurements?"
   ]
  },
  {
   "cell_type": "code",
   "execution_count": 12,
   "metadata": {
    "collapsed": false
   },
   "outputs": [
    {
     "name": "stdout",
     "output_type": "stream",
     "text": [
      "#stations: 41 \n",
      "#years: 155\n",
      "Max temp stats:\n",
      "(count: 314092, mean: 22.8129516193, stdev: 5.31792943713, max: 46.5, min: 0.0)\n"
     ]
    }
   ],
   "source": [
    "import operator\n",
    "\n",
    "print(\"#stations: %s \" % bomRDD.map(lambda r:r.station_number).distinct().count())\n",
    "print(\"#years: %s\" % bomRDD.map(operator.attrgetter('year')).distinct().count())\n",
    "\n",
    "print(\"Max temp stats:\")\n",
    "print(bomRDD.map(operator.attrgetter('max_temp')).filter(lambda v: v is not None).stats())"
   ]
  },
  {
   "cell_type": "markdown",
   "metadata": {},
   "source": [
    "We can check how many observations there are for each year:"
   ]
  },
  {
   "cell_type": "code",
   "execution_count": 13,
   "metadata": {
    "collapsed": false
   },
   "outputs": [
    {
     "data": {
      "text/plain": [
       "[(1859, 365), (1860, 366), (1861, 365)]"
      ]
     },
     "execution_count": 13,
     "metadata": {},
     "output_type": "execute_result"
    }
   ],
   "source": [
    "observationsPerYear = bomRDD.map(lambda r: (r.year, 1)) \\\n",
    "    .reduceByKey(operator.add) \\\n",
    "    .sortByKey() \\\n",
    "    .collect()\n",
    "    \n",
    "observationsPerYear[0:3]"
   ]
  },
  {
   "cell_type": "markdown",
   "metadata": {},
   "source": [
    "And we can use `matplotlib` together with `pandas` to visualise the result:"
   ]
  },
  {
   "cell_type": "code",
   "execution_count": 14,
   "metadata": {
    "collapsed": false
   },
   "outputs": [
    {
     "data": {
      "image/png": "[encoded data removed]",
      "text/plain": [
       "<matplotlib.figure.Figure at 0x7fce3d660c50>"
      ]
     },
     "metadata": {},
     "output_type": "display_data"
    }
   ],
   "source": [
    "import pandas as pd\n",
    "from matplotlib import pyplot as plt\n",
    "\n",
    "observationsPerYearPD = pd.DataFrame.from_records(observationsPerYear, columns=['year', '#observations'], index='year')\n",
    "plt.close()\n",
    "observationsPerYearPD.plot(kind='line')\n",
    "plt.show()\n",
    "display()"
   ]
  },
  {
   "cell_type": "markdown",
   "metadata": {},
   "source": [
    "Finally we can find the station with most observations and calculate and plot average yearly temperatures for this station over the entire period of data collection: "
   ]
  },
  {
   "cell_type": "code",
   "execution_count": 15,
   "metadata": {
    "collapsed": false
   },
   "outputs": [
    {
     "name": "stdout",
     "output_type": "stream",
     "text": [
      "Station: 066062 has most observations: 56317\n"
     ]
    }
   ],
   "source": [
    "# find the station with the most observations\n",
    "\n",
    "top_station_id, top_number = bomRDD \\\n",
    "    .filter(lambda r: r.max_temp is not None) \\\n",
    "    .map(lambda r: (r.station_number, 1)) \\\n",
    "    .reduceByKey(operator.add) \\\n",
    "    .sortBy(lambda t:t[1], False) \\\n",
    "    .first()\n",
    "    \n",
    "print(\"Station: %s has most observations: %s\" % (top_station_id, top_number))"
   ]
  },
  {
   "cell_type": "code",
   "execution_count": 16,
   "metadata": {
    "collapsed": false
   },
   "outputs": [
    {
     "name": "stdout",
     "output_type": "stream",
     "text": [
      "[(1859, 21.399452054794523), (1860, 20.276986301369863), (1861, 20.864657534246582)]\n"
     ]
    }
   ],
   "source": [
    "# compute the yearly averages for the station with most observations\n",
    "\n",
    "seqOp = (lambda sumAndCount, v: (sumAndCount[0] + v, sumAndCount[1] + 1))\n",
    "combOp = (lambda sumAndCount1, sumAndCount2: (sumAndCount1[0] + sumAndCount2[0], sumAndCount1[1] + sumAndCount2[1]))\n",
    "\n",
    "averageYearlyTemps = bomRDD \\\n",
    "    .filter(lambda r: r.station_number == top_station_id) \\\n",
    "    .filter(lambda r: r.max_temp is not None) \\\n",
    "    .map(lambda r: (r.year, r.max_temp)) \\\n",
    "    .aggregateByKey((0.0, 0), seqOp, combOp) \\\n",
    "    .map(lambda (year,sumAndCount): (year, sumAndCount[0]/ sumAndCount[1])) \\\n",
    "    .sortByKey() \\\n",
    "    .collect()\n",
    "    \n",
    "print(averageYearlyTemps[0:3])"
   ]
  },
  {
   "cell_type": "code",
   "execution_count": 18,
   "metadata": {
    "collapsed": false
   },
   "outputs": [
    {
     "data": {
      "image/png": "[encoded data removed]",
      "text/plain": [
       "<matplotlib.figure.Figure at 0x7fce3c6ea490>"
      ]
     },
     "metadata": {},
     "output_type": "display_data"
    }
   ],
   "source": [
    "# visualise the results\n",
    "\n",
    "import pandas as pd\n",
    "from matplotlib import pyplot as plt\n",
    "\n",
    "averageYearlyTempsPD = pd.DataFrame.from_records(averageYearlyTemps, columns=['year', 'avg_max_temp'], index='year')\n",
    "plt.close()\n",
    "averageYearlyTempsPD.plot()\n",
    "plt.show()\n",
    "display()"
   ]
  },
  {
   "cell_type": "markdown",
   "metadata": {},
   "source": [
    "*How you interpret the chart above is up to you ;)*\n",
    "\n",
    "You can now play around modifying pieces of the code.\n",
    "\n",
    "When you are done and you are running off the local machine remember to *close the notebook* with `File/Close and Halt`."
   ]
  }
 ],
 "metadata": {
  "kernelspec": {
   "display_name": "Python 2",
   "language": "python",
   "name": "python2"
  },
  "language_info": {
   "codemirror_mode": {
    "name": "ipython",
    "version": 2
   },
   "file_extension": ".py",
   "mimetype": "text/x-python",
   "name": "python",
   "nbconvert_exporter": "python",
   "pygments_lexer": "ipython2",
   "version": "2.7.12"
  }
 },
 "nbformat": 4,
 "nbformat_minor": 1
}
